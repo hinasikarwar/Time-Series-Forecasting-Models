{
 "cells": [
  {
   "cell_type": "markdown",
   "id": "3c3ee786",
   "metadata": {},
   "source": [
    "# SARIMA Model For Rajasthan EV Traffic Forecasting"
   ]
  },
  {
   "cell_type": "markdown",
   "id": "492e41cc",
   "metadata": {},
   "source": [
    "# Importing dataset & libraries"
   ]
  },
  {
   "cell_type": "code",
   "execution_count": 50,
   "id": "aa4975ff",
   "metadata": {},
   "outputs": [],
   "source": [
    "import os\n",
    "import pandas as pd\n",
    "import numpy as np\n",
    "import matplotlib    \n",
    "import seaborn\n",
    "import matplotlib.pyplot as plt\n",
    "%matplotlib inline\n",
    "\n",
    "import warnings\n",
    "warnings.filterwarnings(\"ignore\")"
   ]
  },
  {
   "cell_type": "code",
   "execution_count": 51,
   "id": "08dab0c0",
   "metadata": {},
   "outputs": [],
   "source": [
    "Raj = pd.read_csv('Raj_Updated_2015 to 2022.csv', low_memory=False)"
   ]
  },
  {
   "cell_type": "markdown",
   "id": "9785e8a7",
   "metadata": {},
   "source": [
    "# Exploratory Data Analysis"
   ]
  },
  {
   "cell_type": "code",
   "execution_count": 52,
   "id": "0452fa76",
   "metadata": {},
   "outputs": [],
   "source": [
    "#Dropping off 'PaymentCategory'\n",
    "\n",
    "Raj = Raj.drop(labels=['PaymentCategory'], axis=1)"
   ]
  },
  {
   "cell_type": "code",
   "execution_count": 53,
   "id": "b969adc5",
   "metadata": {},
   "outputs": [
    {
     "data": {
      "text/plain": [
       "array(['3 Axle Vehicle', 'Bus', 'CJV', 'LCV', 'MAV', 'Oversized',\n",
       "       'Three wheelers', 'Tractor with Trailer',\n",
       "       'Tractor without Trailer', 'Truck 2 axle', 'Two wheelers',\n",
       "       'Unable to classify', nan], dtype=object)"
      ]
     },
     "execution_count": 53,
     "metadata": {},
     "output_type": "execute_result"
    }
   ],
   "source": [
    "#Printing Vehicle Type Category\n",
    "\n",
    "Raj.ClassName.unique()"
   ]
  },
  {
   "cell_type": "code",
   "execution_count": 54,
   "id": "fe81ba14",
   "metadata": {},
   "outputs": [],
   "source": [
    "#Removing insignificant vehicle types from the dataset\n",
    "\n",
    "Raj = Raj[(Raj.ClassName != \"Two wheelers\") & (Raj.ClassName != \"Three wheelers\") & (Raj.ClassName != \"Oversized\") & \n",
    "          (Raj.ClassName != \"Unable to classify\") & (Raj.ClassName != \"Tractor with Trailer\") & \n",
    "          (Raj.ClassName != \"Tractor without Trailer\") & (Raj.ClassName != \"3 Axle Vehicle\")& (Raj.ClassName != \"MAV\")\n",
    "          & (Raj.ClassName != \"Truck 2 axle\")]"
   ]
  },
  {
   "cell_type": "code",
   "execution_count": 55,
   "id": "29feba9a",
   "metadata": {},
   "outputs": [
    {
     "data": {
      "text/plain": [
       "array(['Bus', 'CJV', 'LCV', nan], dtype=object)"
      ]
     },
     "execution_count": 55,
     "metadata": {},
     "output_type": "execute_result"
    }
   ],
   "source": [
    "Raj.ClassName.unique()"
   ]
  },
  {
   "cell_type": "code",
   "execution_count": 56,
   "id": "3dd582cf",
   "metadata": {},
   "outputs": [],
   "source": [
    "#Summation of indivisual traffic data points under the same classsName for removing data redundancy\n",
    "\n",
    "Raj=Raj.groupby([\"ClassName\", \"Project Name\"], as_index=False)['Apr15', 'May15', 'Jun15', 'Jul15', 'Aug15', 'Sep15', 'Oct15','Nov15','Dec15','Jan16','Feb16','Mar16','Apr16','May16','Jun16','Jul16','Aug16','Sep16','Oct16','Nov16','Dec16','Jan17','Feb17','Mar17','Apr17','May17','Jun17','Jul17','Aug17','Sep17','Oct17','Nov17','Dec17','Jan18','Feb18','Mar18','Apr18','May18','Jun18','Jul18','Aug18','Sep18','Oct18','Nov18','Dec18','Jan19','Feb19','Mar19','Apr19','May19','Jun19','Jul19','Aug19','Sep19','Oct19','Nov19','Dec19','Jan20','Feb20','Mar20','Apr20','May20','Jun20','Jul20','Aug20','Sep20','Oct20','Nov20','Dec20','Jan21','Feb21','Mar21','Apr21','May21','Jun21','Jul21','Aug21','Sep21','Oct21','Nov21','Dec21','Jan22','Feb22','March22'\n",
    " ].sum()"
   ]
  },
  {
   "cell_type": "code",
   "execution_count": 57,
   "id": "4436347b",
   "metadata": {},
   "outputs": [],
   "source": [
    "#Month wise traffic data converted to Yearly summation of traffic for respective months"
   ]
  },
  {
   "cell_type": "code",
   "execution_count": 58,
   "id": "8b43d30c",
   "metadata": {},
   "outputs": [],
   "source": [
    "Raj['Jul-Dec-15'] = Raj.loc[0 : 350,['Apr15','May15','Jun15','Jul15','Aug15','Sep15','Oct15','Nov15','Dec15']].sum(axis = 1)\n",
    "\n",
    "Raj['Jan-Dec-16'] = Raj.loc[0 : 350,['Jan16','Feb16','Mar16','Apr16','May16','Jun16','Jul16','Aug16','Sep16','Oct16','Nov16','Dec16']].sum(axis = 1)\n",
    "\n",
    "Raj['Jan-Dec-17'] = Raj.loc[0 : 350,['Jan17','Feb17','Mar17','Apr17','May17','Jun17','Jul17','Aug17','Sep17','Oct17','Nov17','Dec17']].sum(axis = 1)\n",
    "\n",
    "Raj['Jan-Dec-18'] = Raj.loc[0 : 350,['Jan18','Feb18','Mar18','Apr18','May18','Jun18','Jul18','Aug18','Sep18','Oct18','Nov18','Dec18']].sum(axis = 1)"
   ]
  },
  {
   "cell_type": "code",
   "execution_count": 59,
   "id": "30cb2181",
   "metadata": {},
   "outputs": [],
   "source": [
    "Raj['Jan-Dec-19'] = Raj.loc[0 : 350,['Jan19','Feb19','Mar19','Apr19','May19','Jun19','Jul19','Aug19','Sep19','Oct19','Nov19','Dec19']].sum(axis = 1)\n",
    "Raj['Jan-Dec-20'] = Raj.loc[0 : 350,['Jan20','Feb20','Mar20','Apr20','May20','Jun20','Jul20','Aug20','Sep20','Oct20','Nov20','Dec20']].sum(axis = 1)\n",
    "Raj['Jan-Dec-21'] = Raj.loc[0 : 350,['Jan21','Feb21','Mar21','Apr21','May21','Jun21','Jul21','Aug21','Sep21','Oct21','Nov21','Dec21']].sum(axis = 1)\n",
    "Raj['Jan-Mar-22'] = Raj.loc[0 : 350,['Jan22','Feb22','March22']].sum(axis = 1)"
   ]
  },
  {
   "cell_type": "code",
   "execution_count": 60,
   "id": "c129439a",
   "metadata": {},
   "outputs": [
    {
     "name": "stdout",
     "output_type": "stream",
     "text": [
      "   ClassName Project Name  Apr15  May15  Jun15  Jul15  Aug15  Sep15  Oct15  \\\n",
      "0        Bus   BPPTL-TP01      0      0    186    174    174    179    185   \n",
      "1        Bus   BPPTL-TP02      0      0    276    265    265    273    276   \n",
      "2        Bus   BPPTL-TP03      0      0    340    317    307    343    344   \n",
      "3        Bus   BPPTL-TP04      0      0    293    260    176    298    289   \n",
      "4        CJV   BPPTL-TP01      0      0   1709   1547   1515   1680   1691   \n",
      "5        CJV   BPPTL-TP02      0      0   2554   2281   2349   2515   2509   \n",
      "6        CJV   BPPTL-TP03      0      0   2576   2310   2397   2686   2510   \n",
      "7        CJV   BPPTL-TP04      0      0   2940   2493   1861   3012   2894   \n",
      "8        LCV   BPPTL-TP01      0      0    261    247    236    252    263   \n",
      "9        LCV   BPPTL-TP02      0      0    383    358    362    369    411   \n",
      "10       LCV   BPPTL-TP03      0      0    452    423    435    448    473   \n",
      "11       LCV   BPPTL-TP04      0      0    423    391    266    418    442   \n",
      "\n",
      "    Nov15  ...  Feb22  March22  Jul-Dec-15  Jan-Dec-16  Jan-Dec-17  \\\n",
      "0     202  ...    357      341        1298        2390        2481   \n",
      "1     294  ...    425      429        1939        3509        3799   \n",
      "2     401  ...    478      467        2418        4567        4907   \n",
      "3     349  ...    447      423        1983        3845        4187   \n",
      "4    2207  ...   4078     3529       12334       25511       28294   \n",
      "5    3129  ...   5022     4232       18292       38045       41870   \n",
      "6    3381  ...   4906     4152       18770       36704       39413   \n",
      "7    3934  ...   5662     4704       20433       43201       47566   \n",
      "8     222  ...    287      293        1703        2680        2936   \n",
      "9     379  ...    374      366        2659        4437        4740   \n",
      "10    410  ...    416      396        3066        4615        4839   \n",
      "11    429  ...    393      413        2817        4632        5300   \n",
      "\n",
      "    Jan-Dec-18  Jan-Dec-19  Jan-Dec-20  Jan-Dec-21  Jan-Mar-22  \n",
      "0         2744        3014        2946        3464         975  \n",
      "1         4079        4396        3346        4232        1213  \n",
      "2         5163        5609        4218        4989        1363  \n",
      "3         4437        4869        3666        4497        1246  \n",
      "4        30151       34054       36492       41921       10921  \n",
      "5        45437       49366       47006       50580       13201  \n",
      "6        41496       44273       44015       49786       12944  \n",
      "7        48298       52462       48915       56240       14803  \n",
      "8         3291        2969        2860        3142         829  \n",
      "9         4914        4288        3796        3970        1064  \n",
      "10        5088        4523        4181        4473        1166  \n",
      "11        5284        4386        3910        4269        1139  \n",
      "\n",
      "[12 rows x 94 columns]\n"
     ]
    }
   ],
   "source": [
    "print(Raj)"
   ]
  },
  {
   "cell_type": "code",
   "execution_count": 61,
   "id": "a3b0c405",
   "metadata": {},
   "outputs": [
    {
     "data": {
      "text/plain": [
       "0     Bus\n",
       "1     Bus\n",
       "2     Bus\n",
       "3     Bus\n",
       "4     CJV\n",
       "5     CJV\n",
       "6     CJV\n",
       "7     CJV\n",
       "8     LCV\n",
       "9     LCV\n",
       "10    LCV\n",
       "11    LCV\n",
       "Name: ClassName, dtype: object"
      ]
     },
     "execution_count": 61,
     "metadata": {},
     "output_type": "execute_result"
    }
   ],
   "source": [
    "Raj['ClassName']"
   ]
  },
  {
   "cell_type": "code",
   "execution_count": 62,
   "id": "d7123a6e",
   "metadata": {},
   "outputs": [],
   "source": [
    "#Annualizing Data\n",
    "\n",
    "Raj['Jul-Dec-15']= 2*Raj['Jul-Dec-15']\n",
    "Raj['Jan-Mar-22']= 4*Raj['Jan-Mar-22']"
   ]
  },
  {
   "cell_type": "code",
   "execution_count": 63,
   "id": "72170901",
   "metadata": {},
   "outputs": [
    {
     "name": "stdout",
     "output_type": "stream",
     "text": [
      "  Project Name  Apr15  May15  Jun15  Jul15  Aug15  Sep15  Oct15  Nov15  Dec15  \\\n",
      "0   BPPTL-TP01      0      0   2156   1968   1925   2111   2139   2631   2405   \n",
      "1   BPPTL-TP02      0      0   3213   2904   2976   3157   3196   3802   3642   \n",
      "2   BPPTL-TP03      0      0   3368   3050   3139   3477   3327   4192   3701   \n",
      "3   BPPTL-TP04      0      0   3656   3144   2303   3728   3625   4712   4065   \n",
      "\n",
      "   ...  Feb22  March22  Jul-Dec-15  Jan-Dec-16  Jan-Dec-17  Jan-Dec-18  \\\n",
      "0  ...   4722     4163       30670       30581       33711       36186   \n",
      "1  ...   5821     5027       45780       45991       50409       54430   \n",
      "2  ...   5800     5015       48508       45886       49159       51747   \n",
      "3  ...   6502     5540       50466       51678       57053       58019   \n",
      "\n",
      "   Jan-Dec-19  Jan-Dec-20  Jan-Dec-21  Jan-Mar-22  \n",
      "0       40037       42298       48527       50900  \n",
      "1       58050       54148       58782       61912  \n",
      "2       54405       52414       59248       61892  \n",
      "3       61717       56491       65006       68752  \n",
      "\n",
      "[4 rows x 93 columns]\n"
     ]
    }
   ],
   "source": [
    "#Toll wise summation\n",
    "\n",
    "g_sum = Raj.groupby('Project Name', as_index=False).sum()\n",
    "print(g_sum)"
   ]
  },
  {
   "cell_type": "code",
   "execution_count": 64,
   "id": "392195e7",
   "metadata": {},
   "outputs": [],
   "source": [
    "g_sum = g_sum.drop(labels=['Jul-Dec-15', 'Jan-Dec-16', 'Jan-Dec-17',  'Jan-Dec-18','Jan-Dec-19','Jan-Dec-20','Jan-Dec-21', 'Jan-Mar-22' ], axis=1)"
   ]
  },
  {
   "cell_type": "code",
   "execution_count": 65,
   "id": "5a3ee4c2",
   "metadata": {},
   "outputs": [
    {
     "name": "stdout",
     "output_type": "stream",
     "text": [
      "                                   Project Name  Apr15  May15  Jun15  Jul15  \\\n",
      "0                                    BPPTL-TP01      0      0   2156   1968   \n",
      "1                                    BPPTL-TP02      0      0   3213   2904   \n",
      "2                                    BPPTL-TP03      0      0   3368   3050   \n",
      "3                                    BPPTL-TP04      0      0   3656   3144   \n",
      "Total  BPPTL-TP01BPPTL-TP02BPPTL-TP03BPPTL-TP04      0      0  12393  11066   \n",
      "\n",
      "       Aug15  Sep15  Oct15  Nov15  Dec15  ...  Jun21  Jul21  Aug21  Sep21  \\\n",
      "0       1925   2111   2139   2631   2405  ...   3584   4140   4163   4146   \n",
      "1       2976   3157   3196   3802   3642  ...   4493   5032   4973   4926   \n",
      "2       3139   3477   3327   4192   3701  ...   4201   5202   5484   4937   \n",
      "3       2303   3728   3625   4712   4065  ...   4639   5664   5812   5257   \n",
      "Total  10343  12473  12287  15337  13813  ...  16917  20038  20432  19266   \n",
      "\n",
      "       Oct21  Nov21  Dec21  Jan22  Feb22  March22  \n",
      "0       3987   5025   4671   3840   4722     4163  \n",
      "1       4744   5949   5564   4630   5821     5027  \n",
      "2       4878   6507   5747   4658   5800     5015  \n",
      "3       5325   7336   6268   5146   6502     5540  \n",
      "Total  18934  24817  22250  18274  22845    19745  \n",
      "\n",
      "[5 rows x 85 columns]\n"
     ]
    }
   ],
   "source": [
    "# Get sum of all rows as a new row in Dataframe\n",
    "\n",
    "total = g_sum.sum()\n",
    "total.name = 'Total'\n",
    "\n",
    "# Assign sum of all rows of DataFrame as a new Row\n",
    "\n",
    "g_sum = g_sum.append(total.transpose())\n",
    "print(g_sum)"
   ]
  },
  {
   "cell_type": "code",
   "execution_count": 66,
   "id": "ea31dfc3",
   "metadata": {},
   "outputs": [
    {
     "data": {
      "text/plain": [
       "Index(['Total'], dtype='object')"
      ]
     },
     "execution_count": 66,
     "metadata": {},
     "output_type": "execute_result"
    }
   ],
   "source": [
    "i = g_sum[(g_sum['Project Name'] == 'BPPTL-TP01BPPTL-TP02BPPTL-TP03BPPTL-TP04')].index\n",
    "i"
   ]
  },
  {
   "cell_type": "code",
   "execution_count": 67,
   "id": "9062c7b0",
   "metadata": {},
   "outputs": [
    {
     "data": {
      "text/html": [
       "<div>\n",
       "<style scoped>\n",
       "    .dataframe tbody tr th:only-of-type {\n",
       "        vertical-align: middle;\n",
       "    }\n",
       "\n",
       "    .dataframe tbody tr th {\n",
       "        vertical-align: top;\n",
       "    }\n",
       "\n",
       "    .dataframe thead th {\n",
       "        text-align: right;\n",
       "    }\n",
       "</style>\n",
       "<table border=\"1\" class=\"dataframe\">\n",
       "  <thead>\n",
       "    <tr style=\"text-align: right;\">\n",
       "      <th></th>\n",
       "      <th>Project Name</th>\n",
       "      <th>Apr15</th>\n",
       "      <th>May15</th>\n",
       "      <th>Jun15</th>\n",
       "      <th>Jul15</th>\n",
       "      <th>Aug15</th>\n",
       "      <th>Sep15</th>\n",
       "      <th>Oct15</th>\n",
       "      <th>Nov15</th>\n",
       "      <th>Dec15</th>\n",
       "      <th>...</th>\n",
       "      <th>Jun21</th>\n",
       "      <th>Jul21</th>\n",
       "      <th>Aug21</th>\n",
       "      <th>Sep21</th>\n",
       "      <th>Oct21</th>\n",
       "      <th>Nov21</th>\n",
       "      <th>Dec21</th>\n",
       "      <th>Jan22</th>\n",
       "      <th>Feb22</th>\n",
       "      <th>March22</th>\n",
       "    </tr>\n",
       "  </thead>\n",
       "  <tbody>\n",
       "    <tr>\n",
       "      <th>Total</th>\n",
       "      <td>BPPTL-TP01BPPTL-TP02BPPTL-TP03BPPTL-TP04</td>\n",
       "      <td>0</td>\n",
       "      <td>0</td>\n",
       "      <td>12393</td>\n",
       "      <td>11066</td>\n",
       "      <td>10343</td>\n",
       "      <td>12473</td>\n",
       "      <td>12287</td>\n",
       "      <td>15337</td>\n",
       "      <td>13813</td>\n",
       "      <td>...</td>\n",
       "      <td>16917</td>\n",
       "      <td>20038</td>\n",
       "      <td>20432</td>\n",
       "      <td>19266</td>\n",
       "      <td>18934</td>\n",
       "      <td>24817</td>\n",
       "      <td>22250</td>\n",
       "      <td>18274</td>\n",
       "      <td>22845</td>\n",
       "      <td>19745</td>\n",
       "    </tr>\n",
       "  </tbody>\n",
       "</table>\n",
       "<p>1 rows × 85 columns</p>\n",
       "</div>"
      ],
      "text/plain": [
       "                                   Project Name  Apr15  May15  Jun15  Jul15  \\\n",
       "Total  BPPTL-TP01BPPTL-TP02BPPTL-TP03BPPTL-TP04      0      0  12393  11066   \n",
       "\n",
       "       Aug15  Sep15  Oct15  Nov15  Dec15  ...  Jun21  Jul21  Aug21  Sep21  \\\n",
       "Total  10343  12473  12287  15337  13813  ...  16917  20038  20432  19266   \n",
       "\n",
       "       Oct21  Nov21  Dec21  Jan22  Feb22  March22  \n",
       "Total  18934  24817  22250  18274  22845    19745  \n",
       "\n",
       "[1 rows x 85 columns]"
      ]
     },
     "execution_count": 67,
     "metadata": {},
     "output_type": "execute_result"
    }
   ],
   "source": [
    "#Combining all 4 tolls under one category\n",
    "\n",
    "Total_Traffic= g_sum[(g_sum['Project Name'] == 'BPPTL-TP01BPPTL-TP02BPPTL-TP03BPPTL-TP04')]\n",
    "Total_Traffic"
   ]
  },
  {
   "cell_type": "code",
   "execution_count": 68,
   "id": "81427276",
   "metadata": {},
   "outputs": [],
   "source": [
    "#Dropping insignificant months(toll starts from July'15)\n",
    "\n",
    "Total_Traffic= Total_Traffic.drop(labels=['Apr15', 'May15', 'Jun15'], axis=1)"
   ]
  },
  {
   "cell_type": "code",
   "execution_count": 69,
   "id": "2ef77561",
   "metadata": {},
   "outputs": [],
   "source": [
    "#Calculate month wise total traffic from all 4 tolls combined under one column 'Month_year'"
   ]
  },
  {
   "cell_type": "code",
   "execution_count": 70,
   "id": "d6f0f050",
   "metadata": {},
   "outputs": [],
   "source": [
    "df_unpivoted = Total_Traffic.melt(id_vars=['Project Name'], value_name='BPPTL-TP01BPPTL-TP02BPPTL-TP03BPPTL-TP04')"
   ]
  },
  {
   "cell_type": "code",
   "execution_count": 71,
   "id": "314a39cf",
   "metadata": {},
   "outputs": [
    {
     "data": {
      "text/html": [
       "<div>\n",
       "<style scoped>\n",
       "    .dataframe tbody tr th:only-of-type {\n",
       "        vertical-align: middle;\n",
       "    }\n",
       "\n",
       "    .dataframe tbody tr th {\n",
       "        vertical-align: top;\n",
       "    }\n",
       "\n",
       "    .dataframe thead th {\n",
       "        text-align: right;\n",
       "    }\n",
       "</style>\n",
       "<table border=\"1\" class=\"dataframe\">\n",
       "  <thead>\n",
       "    <tr style=\"text-align: right;\">\n",
       "      <th></th>\n",
       "      <th>Project Name</th>\n",
       "      <th>Month_year</th>\n",
       "      <th>BPPTL-TP01BPPTL-TP02BPPTL-TP03BPPTL-TP04</th>\n",
       "    </tr>\n",
       "  </thead>\n",
       "  <tbody>\n",
       "    <tr>\n",
       "      <th>0</th>\n",
       "      <td>BPPTL-TP01BPPTL-TP02BPPTL-TP03BPPTL-TP04</td>\n",
       "      <td>Jul15</td>\n",
       "      <td>11066</td>\n",
       "    </tr>\n",
       "    <tr>\n",
       "      <th>1</th>\n",
       "      <td>BPPTL-TP01BPPTL-TP02BPPTL-TP03BPPTL-TP04</td>\n",
       "      <td>Aug15</td>\n",
       "      <td>10343</td>\n",
       "    </tr>\n",
       "    <tr>\n",
       "      <th>2</th>\n",
       "      <td>BPPTL-TP01BPPTL-TP02BPPTL-TP03BPPTL-TP04</td>\n",
       "      <td>Sep15</td>\n",
       "      <td>12473</td>\n",
       "    </tr>\n",
       "    <tr>\n",
       "      <th>3</th>\n",
       "      <td>BPPTL-TP01BPPTL-TP02BPPTL-TP03BPPTL-TP04</td>\n",
       "      <td>Oct15</td>\n",
       "      <td>12287</td>\n",
       "    </tr>\n",
       "    <tr>\n",
       "      <th>4</th>\n",
       "      <td>BPPTL-TP01BPPTL-TP02BPPTL-TP03BPPTL-TP04</td>\n",
       "      <td>Nov15</td>\n",
       "      <td>15337</td>\n",
       "    </tr>\n",
       "    <tr>\n",
       "      <th>...</th>\n",
       "      <td>...</td>\n",
       "      <td>...</td>\n",
       "      <td>...</td>\n",
       "    </tr>\n",
       "    <tr>\n",
       "      <th>76</th>\n",
       "      <td>BPPTL-TP01BPPTL-TP02BPPTL-TP03BPPTL-TP04</td>\n",
       "      <td>Nov21</td>\n",
       "      <td>24817</td>\n",
       "    </tr>\n",
       "    <tr>\n",
       "      <th>77</th>\n",
       "      <td>BPPTL-TP01BPPTL-TP02BPPTL-TP03BPPTL-TP04</td>\n",
       "      <td>Dec21</td>\n",
       "      <td>22250</td>\n",
       "    </tr>\n",
       "    <tr>\n",
       "      <th>78</th>\n",
       "      <td>BPPTL-TP01BPPTL-TP02BPPTL-TP03BPPTL-TP04</td>\n",
       "      <td>Jan22</td>\n",
       "      <td>18274</td>\n",
       "    </tr>\n",
       "    <tr>\n",
       "      <th>79</th>\n",
       "      <td>BPPTL-TP01BPPTL-TP02BPPTL-TP03BPPTL-TP04</td>\n",
       "      <td>Feb22</td>\n",
       "      <td>22845</td>\n",
       "    </tr>\n",
       "    <tr>\n",
       "      <th>80</th>\n",
       "      <td>BPPTL-TP01BPPTL-TP02BPPTL-TP03BPPTL-TP04</td>\n",
       "      <td>March22</td>\n",
       "      <td>19745</td>\n",
       "    </tr>\n",
       "  </tbody>\n",
       "</table>\n",
       "<p>81 rows × 3 columns</p>\n",
       "</div>"
      ],
      "text/plain": [
       "                                Project Name Month_year  \\\n",
       "0   BPPTL-TP01BPPTL-TP02BPPTL-TP03BPPTL-TP04      Jul15   \n",
       "1   BPPTL-TP01BPPTL-TP02BPPTL-TP03BPPTL-TP04      Aug15   \n",
       "2   BPPTL-TP01BPPTL-TP02BPPTL-TP03BPPTL-TP04      Sep15   \n",
       "3   BPPTL-TP01BPPTL-TP02BPPTL-TP03BPPTL-TP04      Oct15   \n",
       "4   BPPTL-TP01BPPTL-TP02BPPTL-TP03BPPTL-TP04      Nov15   \n",
       "..                                       ...        ...   \n",
       "76  BPPTL-TP01BPPTL-TP02BPPTL-TP03BPPTL-TP04      Nov21   \n",
       "77  BPPTL-TP01BPPTL-TP02BPPTL-TP03BPPTL-TP04      Dec21   \n",
       "78  BPPTL-TP01BPPTL-TP02BPPTL-TP03BPPTL-TP04      Jan22   \n",
       "79  BPPTL-TP01BPPTL-TP02BPPTL-TP03BPPTL-TP04      Feb22   \n",
       "80  BPPTL-TP01BPPTL-TP02BPPTL-TP03BPPTL-TP04    March22   \n",
       "\n",
       "    BPPTL-TP01BPPTL-TP02BPPTL-TP03BPPTL-TP04  \n",
       "0                                      11066  \n",
       "1                                      10343  \n",
       "2                                      12473  \n",
       "3                                      12287  \n",
       "4                                      15337  \n",
       "..                                       ...  \n",
       "76                                     24817  \n",
       "77                                     22250  \n",
       "78                                     18274  \n",
       "79                                     22845  \n",
       "80                                     19745  \n",
       "\n",
       "[81 rows x 3 columns]"
      ]
     },
     "execution_count": 71,
     "metadata": {},
     "output_type": "execute_result"
    }
   ],
   "source": [
    "df_unpivoted= df_unpivoted.rename(columns = {\"variable\":\"Month_year\"})\n",
    "df_unpivoted"
   ]
  },
  {
   "cell_type": "code",
   "execution_count": 72,
   "id": "8455b76f",
   "metadata": {},
   "outputs": [],
   "source": [
    "#Month_year(format) column to Date column conversion"
   ]
  },
  {
   "cell_type": "code",
   "execution_count": 73,
   "id": "46366dde",
   "metadata": {},
   "outputs": [
    {
     "data": {
      "text/html": [
       "<div>\n",
       "<style scoped>\n",
       "    .dataframe tbody tr th:only-of-type {\n",
       "        vertical-align: middle;\n",
       "    }\n",
       "\n",
       "    .dataframe tbody tr th {\n",
       "        vertical-align: top;\n",
       "    }\n",
       "\n",
       "    .dataframe thead th {\n",
       "        text-align: right;\n",
       "    }\n",
       "</style>\n",
       "<table border=\"1\" class=\"dataframe\">\n",
       "  <thead>\n",
       "    <tr style=\"text-align: right;\">\n",
       "      <th></th>\n",
       "      <th>Month_year</th>\n",
       "      <th>BPPTL-TP01BPPTL-TP02BPPTL-TP03BPPTL-TP04</th>\n",
       "    </tr>\n",
       "  </thead>\n",
       "  <tbody>\n",
       "    <tr>\n",
       "      <th>0</th>\n",
       "      <td>Jul15</td>\n",
       "      <td>11066</td>\n",
       "    </tr>\n",
       "    <tr>\n",
       "      <th>1</th>\n",
       "      <td>Aug15</td>\n",
       "      <td>10343</td>\n",
       "    </tr>\n",
       "    <tr>\n",
       "      <th>2</th>\n",
       "      <td>Sep15</td>\n",
       "      <td>12473</td>\n",
       "    </tr>\n",
       "    <tr>\n",
       "      <th>3</th>\n",
       "      <td>Oct15</td>\n",
       "      <td>12287</td>\n",
       "    </tr>\n",
       "    <tr>\n",
       "      <th>4</th>\n",
       "      <td>Nov15</td>\n",
       "      <td>15337</td>\n",
       "    </tr>\n",
       "    <tr>\n",
       "      <th>...</th>\n",
       "      <td>...</td>\n",
       "      <td>...</td>\n",
       "    </tr>\n",
       "    <tr>\n",
       "      <th>76</th>\n",
       "      <td>Nov21</td>\n",
       "      <td>24817</td>\n",
       "    </tr>\n",
       "    <tr>\n",
       "      <th>77</th>\n",
       "      <td>Dec21</td>\n",
       "      <td>22250</td>\n",
       "    </tr>\n",
       "    <tr>\n",
       "      <th>78</th>\n",
       "      <td>Jan22</td>\n",
       "      <td>18274</td>\n",
       "    </tr>\n",
       "    <tr>\n",
       "      <th>79</th>\n",
       "      <td>Feb22</td>\n",
       "      <td>22845</td>\n",
       "    </tr>\n",
       "    <tr>\n",
       "      <th>80</th>\n",
       "      <td>March22</td>\n",
       "      <td>19745</td>\n",
       "    </tr>\n",
       "  </tbody>\n",
       "</table>\n",
       "<p>81 rows × 2 columns</p>\n",
       "</div>"
      ],
      "text/plain": [
       "   Month_year  BPPTL-TP01BPPTL-TP02BPPTL-TP03BPPTL-TP04\n",
       "0       Jul15                                     11066\n",
       "1       Aug15                                     10343\n",
       "2       Sep15                                     12473\n",
       "3       Oct15                                     12287\n",
       "4       Nov15                                     15337\n",
       "..        ...                                       ...\n",
       "76      Nov21                                     24817\n",
       "77      Dec21                                     22250\n",
       "78      Jan22                                     18274\n",
       "79      Feb22                                     22845\n",
       "80    March22                                     19745\n",
       "\n",
       "[81 rows x 2 columns]"
      ]
     },
     "execution_count": 73,
     "metadata": {},
     "output_type": "execute_result"
    }
   ],
   "source": [
    "#Month wise Totall Traffic\n",
    "\n",
    "df_unpivoted.drop(['Project Name'], axis = 1)"
   ]
  },
  {
   "cell_type": "code",
   "execution_count": 74,
   "id": "cb507c45",
   "metadata": {},
   "outputs": [
    {
     "name": "stdout",
     "output_type": "stream",
     "text": [
      "         date\n",
      "0  2015-07-31\n",
      "1  2015-08-31\n",
      "2  2015-09-30\n",
      "3  2015-10-31\n",
      "4  2015-11-30\n",
      "..        ...\n",
      "76 2021-11-30\n",
      "77 2021-12-31\n",
      "78 2022-01-31\n",
      "79 2022-02-28\n",
      "80 2022-03-31\n",
      "\n",
      "[81 rows x 1 columns]\n"
     ]
    }
   ],
   "source": [
    "df = pd.DataFrame()\n",
    "\n",
    "df['date'] = pd.date_range('7/1/2015', periods=81, freq='M')  \n",
    "print(df)"
   ]
  },
  {
   "cell_type": "code",
   "execution_count": 75,
   "id": "b45d203d",
   "metadata": {},
   "outputs": [
    {
     "data": {
      "text/html": [
       "<div>\n",
       "<style scoped>\n",
       "    .dataframe tbody tr th:only-of-type {\n",
       "        vertical-align: middle;\n",
       "    }\n",
       "\n",
       "    .dataframe tbody tr th {\n",
       "        vertical-align: top;\n",
       "    }\n",
       "\n",
       "    .dataframe thead th {\n",
       "        text-align: right;\n",
       "    }\n",
       "</style>\n",
       "<table border=\"1\" class=\"dataframe\">\n",
       "  <thead>\n",
       "    <tr style=\"text-align: right;\">\n",
       "      <th></th>\n",
       "      <th>Project Name</th>\n",
       "      <th>Month_year</th>\n",
       "      <th>BPPTL-TP01BPPTL-TP02BPPTL-TP03BPPTL-TP04</th>\n",
       "      <th>date</th>\n",
       "    </tr>\n",
       "  </thead>\n",
       "  <tbody>\n",
       "    <tr>\n",
       "      <th>0</th>\n",
       "      <td>BPPTL-TP01BPPTL-TP02BPPTL-TP03BPPTL-TP04</td>\n",
       "      <td>Jul15</td>\n",
       "      <td>11066</td>\n",
       "      <td>2015-07-31</td>\n",
       "    </tr>\n",
       "    <tr>\n",
       "      <th>1</th>\n",
       "      <td>BPPTL-TP01BPPTL-TP02BPPTL-TP03BPPTL-TP04</td>\n",
       "      <td>Aug15</td>\n",
       "      <td>10343</td>\n",
       "      <td>2015-08-31</td>\n",
       "    </tr>\n",
       "    <tr>\n",
       "      <th>2</th>\n",
       "      <td>BPPTL-TP01BPPTL-TP02BPPTL-TP03BPPTL-TP04</td>\n",
       "      <td>Sep15</td>\n",
       "      <td>12473</td>\n",
       "      <td>2015-09-30</td>\n",
       "    </tr>\n",
       "    <tr>\n",
       "      <th>3</th>\n",
       "      <td>BPPTL-TP01BPPTL-TP02BPPTL-TP03BPPTL-TP04</td>\n",
       "      <td>Oct15</td>\n",
       "      <td>12287</td>\n",
       "      <td>2015-10-31</td>\n",
       "    </tr>\n",
       "    <tr>\n",
       "      <th>4</th>\n",
       "      <td>BPPTL-TP01BPPTL-TP02BPPTL-TP03BPPTL-TP04</td>\n",
       "      <td>Nov15</td>\n",
       "      <td>15337</td>\n",
       "      <td>2015-11-30</td>\n",
       "    </tr>\n",
       "    <tr>\n",
       "      <th>...</th>\n",
       "      <td>...</td>\n",
       "      <td>...</td>\n",
       "      <td>...</td>\n",
       "      <td>...</td>\n",
       "    </tr>\n",
       "    <tr>\n",
       "      <th>76</th>\n",
       "      <td>BPPTL-TP01BPPTL-TP02BPPTL-TP03BPPTL-TP04</td>\n",
       "      <td>Nov21</td>\n",
       "      <td>24817</td>\n",
       "      <td>2021-11-30</td>\n",
       "    </tr>\n",
       "    <tr>\n",
       "      <th>77</th>\n",
       "      <td>BPPTL-TP01BPPTL-TP02BPPTL-TP03BPPTL-TP04</td>\n",
       "      <td>Dec21</td>\n",
       "      <td>22250</td>\n",
       "      <td>2021-12-31</td>\n",
       "    </tr>\n",
       "    <tr>\n",
       "      <th>78</th>\n",
       "      <td>BPPTL-TP01BPPTL-TP02BPPTL-TP03BPPTL-TP04</td>\n",
       "      <td>Jan22</td>\n",
       "      <td>18274</td>\n",
       "      <td>2022-01-31</td>\n",
       "    </tr>\n",
       "    <tr>\n",
       "      <th>79</th>\n",
       "      <td>BPPTL-TP01BPPTL-TP02BPPTL-TP03BPPTL-TP04</td>\n",
       "      <td>Feb22</td>\n",
       "      <td>22845</td>\n",
       "      <td>2022-02-28</td>\n",
       "    </tr>\n",
       "    <tr>\n",
       "      <th>80</th>\n",
       "      <td>BPPTL-TP01BPPTL-TP02BPPTL-TP03BPPTL-TP04</td>\n",
       "      <td>March22</td>\n",
       "      <td>19745</td>\n",
       "      <td>2022-03-31</td>\n",
       "    </tr>\n",
       "  </tbody>\n",
       "</table>\n",
       "<p>81 rows × 4 columns</p>\n",
       "</div>"
      ],
      "text/plain": [
       "                                Project Name Month_year  \\\n",
       "0   BPPTL-TP01BPPTL-TP02BPPTL-TP03BPPTL-TP04      Jul15   \n",
       "1   BPPTL-TP01BPPTL-TP02BPPTL-TP03BPPTL-TP04      Aug15   \n",
       "2   BPPTL-TP01BPPTL-TP02BPPTL-TP03BPPTL-TP04      Sep15   \n",
       "3   BPPTL-TP01BPPTL-TP02BPPTL-TP03BPPTL-TP04      Oct15   \n",
       "4   BPPTL-TP01BPPTL-TP02BPPTL-TP03BPPTL-TP04      Nov15   \n",
       "..                                       ...        ...   \n",
       "76  BPPTL-TP01BPPTL-TP02BPPTL-TP03BPPTL-TP04      Nov21   \n",
       "77  BPPTL-TP01BPPTL-TP02BPPTL-TP03BPPTL-TP04      Dec21   \n",
       "78  BPPTL-TP01BPPTL-TP02BPPTL-TP03BPPTL-TP04      Jan22   \n",
       "79  BPPTL-TP01BPPTL-TP02BPPTL-TP03BPPTL-TP04      Feb22   \n",
       "80  BPPTL-TP01BPPTL-TP02BPPTL-TP03BPPTL-TP04    March22   \n",
       "\n",
       "    BPPTL-TP01BPPTL-TP02BPPTL-TP03BPPTL-TP04       date  \n",
       "0                                      11066 2015-07-31  \n",
       "1                                      10343 2015-08-31  \n",
       "2                                      12473 2015-09-30  \n",
       "3                                      12287 2015-10-31  \n",
       "4                                      15337 2015-11-30  \n",
       "..                                       ...        ...  \n",
       "76                                     24817 2021-11-30  \n",
       "77                                     22250 2021-12-31  \n",
       "78                                     18274 2022-01-31  \n",
       "79                                     22845 2022-02-28  \n",
       "80                                     19745 2022-03-31  \n",
       "\n",
       "[81 rows x 4 columns]"
      ]
     },
     "execution_count": 75,
     "metadata": {},
     "output_type": "execute_result"
    }
   ],
   "source": [
    "pd.concat([df_unpivoted, df.reindex(df_unpivoted.index)], axis=1)"
   ]
  },
  {
   "cell_type": "code",
   "execution_count": 76,
   "id": "4d526cb0",
   "metadata": {},
   "outputs": [
    {
     "data": {
      "text/html": [
       "<div>\n",
       "<style scoped>\n",
       "    .dataframe tbody tr th:only-of-type {\n",
       "        vertical-align: middle;\n",
       "    }\n",
       "\n",
       "    .dataframe tbody tr th {\n",
       "        vertical-align: top;\n",
       "    }\n",
       "\n",
       "    .dataframe thead th {\n",
       "        text-align: right;\n",
       "    }\n",
       "</style>\n",
       "<table border=\"1\" class=\"dataframe\">\n",
       "  <thead>\n",
       "    <tr style=\"text-align: right;\">\n",
       "      <th></th>\n",
       "      <th>Month_year</th>\n",
       "      <th>Traffic</th>\n",
       "    </tr>\n",
       "  </thead>\n",
       "  <tbody>\n",
       "    <tr>\n",
       "      <th>0</th>\n",
       "      <td>Jul15</td>\n",
       "      <td>11066</td>\n",
       "    </tr>\n",
       "    <tr>\n",
       "      <th>1</th>\n",
       "      <td>Aug15</td>\n",
       "      <td>10343</td>\n",
       "    </tr>\n",
       "    <tr>\n",
       "      <th>2</th>\n",
       "      <td>Sep15</td>\n",
       "      <td>12473</td>\n",
       "    </tr>\n",
       "    <tr>\n",
       "      <th>3</th>\n",
       "      <td>Oct15</td>\n",
       "      <td>12287</td>\n",
       "    </tr>\n",
       "    <tr>\n",
       "      <th>4</th>\n",
       "      <td>Nov15</td>\n",
       "      <td>15337</td>\n",
       "    </tr>\n",
       "    <tr>\n",
       "      <th>...</th>\n",
       "      <td>...</td>\n",
       "      <td>...</td>\n",
       "    </tr>\n",
       "    <tr>\n",
       "      <th>76</th>\n",
       "      <td>Nov21</td>\n",
       "      <td>24817</td>\n",
       "    </tr>\n",
       "    <tr>\n",
       "      <th>77</th>\n",
       "      <td>Dec21</td>\n",
       "      <td>22250</td>\n",
       "    </tr>\n",
       "    <tr>\n",
       "      <th>78</th>\n",
       "      <td>Jan22</td>\n",
       "      <td>18274</td>\n",
       "    </tr>\n",
       "    <tr>\n",
       "      <th>79</th>\n",
       "      <td>Feb22</td>\n",
       "      <td>22845</td>\n",
       "    </tr>\n",
       "    <tr>\n",
       "      <th>80</th>\n",
       "      <td>March22</td>\n",
       "      <td>19745</td>\n",
       "    </tr>\n",
       "  </tbody>\n",
       "</table>\n",
       "<p>81 rows × 2 columns</p>\n",
       "</div>"
      ],
      "text/plain": [
       "   Month_year  Traffic\n",
       "0       Jul15    11066\n",
       "1       Aug15    10343\n",
       "2       Sep15    12473\n",
       "3       Oct15    12287\n",
       "4       Nov15    15337\n",
       "..        ...      ...\n",
       "76      Nov21    24817\n",
       "77      Dec21    22250\n",
       "78      Jan22    18274\n",
       "79      Feb22    22845\n",
       "80    March22    19745\n",
       "\n",
       "[81 rows x 2 columns]"
      ]
     },
     "execution_count": 76,
     "metadata": {},
     "output_type": "execute_result"
    }
   ],
   "source": [
    "df1= df_unpivoted.drop(labels=['Project Name'], axis=1)\n",
    "df1.rename(columns = {'BPPTL-TP01BPPTL-TP02BPPTL-TP03BPPTL-TP04':'Traffic'}, inplace = True)\n",
    "df1\n"
   ]
  },
  {
   "cell_type": "code",
   "execution_count": 77,
   "id": "ea40dfeb",
   "metadata": {},
   "outputs": [],
   "source": [
    "df2 = pd.concat([df1, df.reindex(df1.index)], axis=1)\n"
   ]
  },
  {
   "cell_type": "code",
   "execution_count": 78,
   "id": "6a758da1",
   "metadata": {},
   "outputs": [
    {
     "name": "stdout",
     "output_type": "stream",
     "text": [
      "    Traffic       date\n",
      "0     11066 2015-07-31\n",
      "1     10343 2015-08-31\n",
      "2     12473 2015-09-30\n",
      "3     12287 2015-10-31\n",
      "4     15337 2015-11-30\n",
      "..      ...        ...\n",
      "76    24817 2021-11-30\n",
      "77    22250 2021-12-31\n",
      "78    18274 2022-01-31\n",
      "79    22845 2022-02-28\n",
      "80    19745 2022-03-31\n",
      "\n",
      "[81 rows x 2 columns]\n"
     ]
    }
   ],
   "source": [
    "#Data in the from total 'Traffic' & respective 'Date'\n",
    "\n",
    "df3= df2.drop(labels=['Month_year'], axis=1)\n",
    "\n",
    "print(df3)"
   ]
  },
  {
   "cell_type": "code",
   "execution_count": 79,
   "id": "f18d40f4",
   "metadata": {},
   "outputs": [
    {
     "name": "stdout",
     "output_type": "stream",
     "text": [
      "    Traffic Month_year\n",
      "0     11066    07/2015\n",
      "1     10343    08/2015\n",
      "2     12473    09/2015\n",
      "3     12287    10/2015\n",
      "4     15337    11/2015\n",
      "..      ...        ...\n",
      "76    24817    11/2021\n",
      "77    22250    12/2021\n",
      "78    18274    01/2022\n",
      "79    22845    02/2022\n",
      "80    19745    03/2022\n",
      "\n",
      "[81 rows x 2 columns]\n"
     ]
    }
   ],
   "source": [
    "#Date column in df3 converted to type Datetime & renamed as 'Month_year'\n",
    "\n",
    "df3.date = pd.to_datetime(df3.date).dt.strftime('%m/%Y')\n",
    "df3.rename(columns = {'date':'Month_year'}, inplace = True)\n",
    "\n",
    "print (df3)"
   ]
  },
  {
   "cell_type": "code",
   "execution_count": 80,
   "id": "0bba94bc",
   "metadata": {},
   "outputs": [],
   "source": [
    "#Totall Traffic converted to Average Total Traffic"
   ]
  },
  {
   "cell_type": "code",
   "execution_count": 81,
   "id": "fd305811",
   "metadata": {},
   "outputs": [
    {
     "name": "stdout",
     "output_type": "stream",
     "text": [
      "    Traffic Month_year\n",
      "0   2766.50    07/2015\n",
      "1   2585.75    08/2015\n",
      "2   3118.25    09/2015\n",
      "3   3071.75    10/2015\n",
      "4   3834.25    11/2015\n",
      "..      ...        ...\n",
      "76  6204.25    11/2021\n",
      "77  5562.50    12/2021\n",
      "78  4568.50    01/2022\n",
      "79  5711.25    02/2022\n",
      "80  4936.25    03/2022\n",
      "\n",
      "[81 rows x 2 columns]\n"
     ]
    }
   ],
   "source": [
    "df3['Traffic'] = df3['Traffic']/4\n",
    "print (df3)"
   ]
  },
  {
   "cell_type": "code",
   "execution_count": 82,
   "id": "29ba2c17",
   "metadata": {},
   "outputs": [
    {
     "data": {
      "text/html": [
       "<div>\n",
       "<style scoped>\n",
       "    .dataframe tbody tr th:only-of-type {\n",
       "        vertical-align: middle;\n",
       "    }\n",
       "\n",
       "    .dataframe tbody tr th {\n",
       "        vertical-align: top;\n",
       "    }\n",
       "\n",
       "    .dataframe thead th {\n",
       "        text-align: right;\n",
       "    }\n",
       "</style>\n",
       "<table border=\"1\" class=\"dataframe\">\n",
       "  <thead>\n",
       "    <tr style=\"text-align: right;\">\n",
       "      <th></th>\n",
       "      <th>Month_year</th>\n",
       "      <th>Traffic</th>\n",
       "    </tr>\n",
       "  </thead>\n",
       "  <tbody>\n",
       "    <tr>\n",
       "      <th>0</th>\n",
       "      <td>07/2015</td>\n",
       "      <td>2766.50</td>\n",
       "    </tr>\n",
       "    <tr>\n",
       "      <th>1</th>\n",
       "      <td>08/2015</td>\n",
       "      <td>2585.75</td>\n",
       "    </tr>\n",
       "    <tr>\n",
       "      <th>2</th>\n",
       "      <td>09/2015</td>\n",
       "      <td>3118.25</td>\n",
       "    </tr>\n",
       "    <tr>\n",
       "      <th>3</th>\n",
       "      <td>10/2015</td>\n",
       "      <td>3071.75</td>\n",
       "    </tr>\n",
       "    <tr>\n",
       "      <th>4</th>\n",
       "      <td>11/2015</td>\n",
       "      <td>3834.25</td>\n",
       "    </tr>\n",
       "    <tr>\n",
       "      <th>...</th>\n",
       "      <td>...</td>\n",
       "      <td>...</td>\n",
       "    </tr>\n",
       "    <tr>\n",
       "      <th>76</th>\n",
       "      <td>11/2021</td>\n",
       "      <td>6204.25</td>\n",
       "    </tr>\n",
       "    <tr>\n",
       "      <th>77</th>\n",
       "      <td>12/2021</td>\n",
       "      <td>5562.50</td>\n",
       "    </tr>\n",
       "    <tr>\n",
       "      <th>78</th>\n",
       "      <td>01/2022</td>\n",
       "      <td>4568.50</td>\n",
       "    </tr>\n",
       "    <tr>\n",
       "      <th>79</th>\n",
       "      <td>02/2022</td>\n",
       "      <td>5711.25</td>\n",
       "    </tr>\n",
       "    <tr>\n",
       "      <th>80</th>\n",
       "      <td>03/2022</td>\n",
       "      <td>4936.25</td>\n",
       "    </tr>\n",
       "  </tbody>\n",
       "</table>\n",
       "<p>81 rows × 2 columns</p>\n",
       "</div>"
      ],
      "text/plain": [
       "   Month_year  Traffic\n",
       "0     07/2015  2766.50\n",
       "1     08/2015  2585.75\n",
       "2     09/2015  3118.25\n",
       "3     10/2015  3071.75\n",
       "4     11/2015  3834.25\n",
       "..        ...      ...\n",
       "76    11/2021  6204.25\n",
       "77    12/2021  5562.50\n",
       "78    01/2022  4568.50\n",
       "79    02/2022  5711.25\n",
       "80    03/2022  4936.25\n",
       "\n",
       "[81 rows x 2 columns]"
      ]
     },
     "execution_count": 82,
     "metadata": {},
     "output_type": "execute_result"
    }
   ],
   "source": [
    "#Average Toll Traffic calculated in a new data frame df4\n",
    "\n",
    "df4 = df3[['Month_year', 'Traffic']]\n",
    "df4"
   ]
  },
  {
   "cell_type": "code",
   "execution_count": 83,
   "id": "6ccc6ab7",
   "metadata": {},
   "outputs": [],
   "source": [
    "#Datetime & time series conversion of the target variable 'Traffic'"
   ]
  },
  {
   "cell_type": "code",
   "execution_count": 84,
   "id": "367ebaa0",
   "metadata": {},
   "outputs": [],
   "source": [
    "df4['Month_year'] =  pd.to_datetime(df4['Month_year'])"
   ]
  },
  {
   "cell_type": "code",
   "execution_count": 85,
   "id": "e59c0e3d",
   "metadata": {},
   "outputs": [],
   "source": [
    "#df4['Traffic']= df4['Traffic'].squeeze()"
   ]
  },
  {
   "cell_type": "code",
   "execution_count": 86,
   "id": "3cb3dc5c",
   "metadata": {},
   "outputs": [
    {
     "data": {
      "text/plain": [
       "pandas.core.series.Series"
      ]
     },
     "execution_count": 86,
     "metadata": {},
     "output_type": "execute_result"
    }
   ],
   "source": [
    "type(df4['Traffic'])"
   ]
  },
  {
   "cell_type": "code",
   "execution_count": 87,
   "id": "7170de94",
   "metadata": {},
   "outputs": [
    {
     "name": "stdout",
     "output_type": "stream",
     "text": [
      "<class 'pandas.core.frame.DataFrame'>\n",
      "RangeIndex: 81 entries, 0 to 80\n",
      "Data columns (total 2 columns):\n",
      " #   Column      Non-Null Count  Dtype         \n",
      "---  ------      --------------  -----         \n",
      " 0   Month_year  81 non-null     datetime64[ns]\n",
      " 1   Traffic     81 non-null     float64       \n",
      "dtypes: datetime64[ns](1), float64(1)\n",
      "memory usage: 1.4 KB\n"
     ]
    }
   ],
   "source": [
    "df4.info()"
   ]
  },
  {
   "cell_type": "code",
   "execution_count": 88,
   "id": "cf7da994",
   "metadata": {},
   "outputs": [
    {
     "data": {
      "text/plain": [
       "<AxesSubplot:>"
      ]
     },
     "execution_count": 88,
     "metadata": {},
     "output_type": "execute_result"
    },
    {
     "data": {
      "image/png": "[encoded data removed]",
      "text/plain": [
       "<Figure size 432x288 with 1 Axes>"
      ]
     },
     "metadata": {
      "needs_background": "light"
     },
     "output_type": "display_data"
    }
   ],
   "source": [
    "#Line graph-timeseries column 'Traffic'\n",
    "\n",
    "df4['Traffic'].plot()"
   ]
  },
  {
   "cell_type": "code",
   "execution_count": 89,
   "id": "f3edcb14",
   "metadata": {},
   "outputs": [
    {
     "data": {
      "text/html": [
       "<div>\n",
       "<style scoped>\n",
       "    .dataframe tbody tr th:only-of-type {\n",
       "        vertical-align: middle;\n",
       "    }\n",
       "\n",
       "    .dataframe tbody tr th {\n",
       "        vertical-align: top;\n",
       "    }\n",
       "\n",
       "    .dataframe thead th {\n",
       "        text-align: right;\n",
       "    }\n",
       "</style>\n",
       "<table border=\"1\" class=\"dataframe\">\n",
       "  <thead>\n",
       "    <tr style=\"text-align: right;\">\n",
       "      <th></th>\n",
       "      <th>Month_year</th>\n",
       "      <th>Traffic</th>\n",
       "    </tr>\n",
       "  </thead>\n",
       "  <tbody>\n",
       "    <tr>\n",
       "      <th>21</th>\n",
       "      <td>2017-04-01</td>\n",
       "      <td>4175.25</td>\n",
       "    </tr>\n",
       "    <tr>\n",
       "      <th>22</th>\n",
       "      <td>2017-05-01</td>\n",
       "      <td>4595.75</td>\n",
       "    </tr>\n",
       "    <tr>\n",
       "      <th>23</th>\n",
       "      <td>2017-06-01</td>\n",
       "      <td>3944.25</td>\n",
       "    </tr>\n",
       "    <tr>\n",
       "      <th>24</th>\n",
       "      <td>2017-07-01</td>\n",
       "      <td>3294.50</td>\n",
       "    </tr>\n",
       "    <tr>\n",
       "      <th>25</th>\n",
       "      <td>2017-08-01</td>\n",
       "      <td>3711.00</td>\n",
       "    </tr>\n",
       "    <tr>\n",
       "      <th>26</th>\n",
       "      <td>2017-09-01</td>\n",
       "      <td>3676.50</td>\n",
       "    </tr>\n",
       "    <tr>\n",
       "      <th>27</th>\n",
       "      <td>2017-10-01</td>\n",
       "      <td>4373.00</td>\n",
       "    </tr>\n",
       "    <tr>\n",
       "      <th>28</th>\n",
       "      <td>2017-11-01</td>\n",
       "      <td>4241.75</td>\n",
       "    </tr>\n",
       "    <tr>\n",
       "      <th>29</th>\n",
       "      <td>2017-12-01</td>\n",
       "      <td>4305.50</td>\n",
       "    </tr>\n",
       "    <tr>\n",
       "      <th>30</th>\n",
       "      <td>2018-01-01</td>\n",
       "      <td>3970.75</td>\n",
       "    </tr>\n",
       "    <tr>\n",
       "      <th>31</th>\n",
       "      <td>2018-02-01</td>\n",
       "      <td>4301.25</td>\n",
       "    </tr>\n",
       "    <tr>\n",
       "      <th>32</th>\n",
       "      <td>2018-03-01</td>\n",
       "      <td>4110.00</td>\n",
       "    </tr>\n",
       "    <tr>\n",
       "      <th>33</th>\n",
       "      <td>2018-04-01</td>\n",
       "      <td>4580.00</td>\n",
       "    </tr>\n",
       "    <tr>\n",
       "      <th>34</th>\n",
       "      <td>2018-05-01</td>\n",
       "      <td>4469.25</td>\n",
       "    </tr>\n",
       "    <tr>\n",
       "      <th>35</th>\n",
       "      <td>2018-06-01</td>\n",
       "      <td>4148.50</td>\n",
       "    </tr>\n",
       "    <tr>\n",
       "      <th>36</th>\n",
       "      <td>2018-07-01</td>\n",
       "      <td>3806.75</td>\n",
       "    </tr>\n",
       "    <tr>\n",
       "      <th>37</th>\n",
       "      <td>2018-08-01</td>\n",
       "      <td>3796.00</td>\n",
       "    </tr>\n",
       "    <tr>\n",
       "      <th>38</th>\n",
       "      <td>2018-09-01</td>\n",
       "      <td>4085.50</td>\n",
       "    </tr>\n",
       "    <tr>\n",
       "      <th>39</th>\n",
       "      <td>2018-10-01</td>\n",
       "      <td>3838.25</td>\n",
       "    </tr>\n",
       "    <tr>\n",
       "      <th>40</th>\n",
       "      <td>2018-11-01</td>\n",
       "      <td>4843.00</td>\n",
       "    </tr>\n",
       "    <tr>\n",
       "      <th>41</th>\n",
       "      <td>2018-12-01</td>\n",
       "      <td>4146.25</td>\n",
       "    </tr>\n",
       "    <tr>\n",
       "      <th>42</th>\n",
       "      <td>2019-01-01</td>\n",
       "      <td>4542.75</td>\n",
       "    </tr>\n",
       "    <tr>\n",
       "      <th>43</th>\n",
       "      <td>2019-02-01</td>\n",
       "      <td>4531.75</td>\n",
       "    </tr>\n",
       "    <tr>\n",
       "      <th>44</th>\n",
       "      <td>2019-03-01</td>\n",
       "      <td>4343.75</td>\n",
       "    </tr>\n",
       "    <tr>\n",
       "      <th>45</th>\n",
       "      <td>2019-04-01</td>\n",
       "      <td>4654.25</td>\n",
       "    </tr>\n",
       "    <tr>\n",
       "      <th>46</th>\n",
       "      <td>2019-05-01</td>\n",
       "      <td>5078.00</td>\n",
       "    </tr>\n",
       "    <tr>\n",
       "      <th>47</th>\n",
       "      <td>2019-06-01</td>\n",
       "      <td>4579.25</td>\n",
       "    </tr>\n",
       "    <tr>\n",
       "      <th>48</th>\n",
       "      <td>2019-07-01</td>\n",
       "      <td>4016.00</td>\n",
       "    </tr>\n",
       "    <tr>\n",
       "      <th>49</th>\n",
       "      <td>2019-08-01</td>\n",
       "      <td>4071.75</td>\n",
       "    </tr>\n",
       "    <tr>\n",
       "      <th>50</th>\n",
       "      <td>2019-09-01</td>\n",
       "      <td>3883.25</td>\n",
       "    </tr>\n",
       "    <tr>\n",
       "      <th>51</th>\n",
       "      <td>2019-10-01</td>\n",
       "      <td>4372.00</td>\n",
       "    </tr>\n",
       "    <tr>\n",
       "      <th>52</th>\n",
       "      <td>2019-11-01</td>\n",
       "      <td>5119.00</td>\n",
       "    </tr>\n",
       "    <tr>\n",
       "      <th>53</th>\n",
       "      <td>2019-12-01</td>\n",
       "      <td>4360.50</td>\n",
       "    </tr>\n",
       "    <tr>\n",
       "      <th>54</th>\n",
       "      <td>2020-01-01</td>\n",
       "      <td>4345.75</td>\n",
       "    </tr>\n",
       "    <tr>\n",
       "      <th>55</th>\n",
       "      <td>2020-02-01</td>\n",
       "      <td>4654.50</td>\n",
       "    </tr>\n",
       "    <tr>\n",
       "      <th>56</th>\n",
       "      <td>2020-03-01</td>\n",
       "      <td>3388.25</td>\n",
       "    </tr>\n",
       "    <tr>\n",
       "      <th>57</th>\n",
       "      <td>2020-04-01</td>\n",
       "      <td>952.50</td>\n",
       "    </tr>\n",
       "    <tr>\n",
       "      <th>58</th>\n",
       "      <td>2020-05-01</td>\n",
       "      <td>2572.25</td>\n",
       "    </tr>\n",
       "    <tr>\n",
       "      <th>59</th>\n",
       "      <td>2020-06-01</td>\n",
       "      <td>4079.75</td>\n",
       "    </tr>\n",
       "    <tr>\n",
       "      <th>60</th>\n",
       "      <td>2020-07-01</td>\n",
       "      <td>4167.75</td>\n",
       "    </tr>\n",
       "    <tr>\n",
       "      <th>61</th>\n",
       "      <td>2020-08-01</td>\n",
       "      <td>4873.00</td>\n",
       "    </tr>\n",
       "    <tr>\n",
       "      <th>62</th>\n",
       "      <td>2020-09-01</td>\n",
       "      <td>5004.25</td>\n",
       "    </tr>\n",
       "    <tr>\n",
       "      <th>63</th>\n",
       "      <td>2020-10-01</td>\n",
       "      <td>5149.00</td>\n",
       "    </tr>\n",
       "    <tr>\n",
       "      <th>64</th>\n",
       "      <td>2020-11-01</td>\n",
       "      <td>6221.25</td>\n",
       "    </tr>\n",
       "    <tr>\n",
       "      <th>65</th>\n",
       "      <td>2020-12-01</td>\n",
       "      <td>5929.50</td>\n",
       "    </tr>\n",
       "    <tr>\n",
       "      <th>66</th>\n",
       "      <td>2021-01-01</td>\n",
       "      <td>5170.50</td>\n",
       "    </tr>\n",
       "    <tr>\n",
       "      <th>67</th>\n",
       "      <td>2021-02-01</td>\n",
       "      <td>5642.50</td>\n",
       "    </tr>\n",
       "    <tr>\n",
       "      <th>68</th>\n",
       "      <td>2021-03-01</td>\n",
       "      <td>4788.75</td>\n",
       "    </tr>\n",
       "    <tr>\n",
       "      <th>69</th>\n",
       "      <td>2021-04-01</td>\n",
       "      <td>4143.75</td>\n",
       "    </tr>\n",
       "    <tr>\n",
       "      <th>70</th>\n",
       "      <td>2021-05-01</td>\n",
       "      <td>2481.75</td>\n",
       "    </tr>\n",
       "    <tr>\n",
       "      <th>71</th>\n",
       "      <td>2021-06-01</td>\n",
       "      <td>4229.25</td>\n",
       "    </tr>\n",
       "    <tr>\n",
       "      <th>72</th>\n",
       "      <td>2021-07-01</td>\n",
       "      <td>5009.50</td>\n",
       "    </tr>\n",
       "    <tr>\n",
       "      <th>73</th>\n",
       "      <td>2021-08-01</td>\n",
       "      <td>5108.00</td>\n",
       "    </tr>\n",
       "    <tr>\n",
       "      <th>74</th>\n",
       "      <td>2021-09-01</td>\n",
       "      <td>4816.50</td>\n",
       "    </tr>\n",
       "    <tr>\n",
       "      <th>75</th>\n",
       "      <td>2021-10-01</td>\n",
       "      <td>4733.50</td>\n",
       "    </tr>\n",
       "    <tr>\n",
       "      <th>76</th>\n",
       "      <td>2021-11-01</td>\n",
       "      <td>6204.25</td>\n",
       "    </tr>\n",
       "    <tr>\n",
       "      <th>77</th>\n",
       "      <td>2021-12-01</td>\n",
       "      <td>5562.50</td>\n",
       "    </tr>\n",
       "    <tr>\n",
       "      <th>78</th>\n",
       "      <td>2022-01-01</td>\n",
       "      <td>4568.50</td>\n",
       "    </tr>\n",
       "    <tr>\n",
       "      <th>79</th>\n",
       "      <td>2022-02-01</td>\n",
       "      <td>5711.25</td>\n",
       "    </tr>\n",
       "    <tr>\n",
       "      <th>80</th>\n",
       "      <td>2022-03-01</td>\n",
       "      <td>4936.25</td>\n",
       "    </tr>\n",
       "  </tbody>\n",
       "</table>\n",
       "</div>"
      ],
      "text/plain": [
       "   Month_year  Traffic\n",
       "21 2017-04-01  4175.25\n",
       "22 2017-05-01  4595.75\n",
       "23 2017-06-01  3944.25\n",
       "24 2017-07-01  3294.50\n",
       "25 2017-08-01  3711.00\n",
       "26 2017-09-01  3676.50\n",
       "27 2017-10-01  4373.00\n",
       "28 2017-11-01  4241.75\n",
       "29 2017-12-01  4305.50\n",
       "30 2018-01-01  3970.75\n",
       "31 2018-02-01  4301.25\n",
       "32 2018-03-01  4110.00\n",
       "33 2018-04-01  4580.00\n",
       "34 2018-05-01  4469.25\n",
       "35 2018-06-01  4148.50\n",
       "36 2018-07-01  3806.75\n",
       "37 2018-08-01  3796.00\n",
       "38 2018-09-01  4085.50\n",
       "39 2018-10-01  3838.25\n",
       "40 2018-11-01  4843.00\n",
       "41 2018-12-01  4146.25\n",
       "42 2019-01-01  4542.75\n",
       "43 2019-02-01  4531.75\n",
       "44 2019-03-01  4343.75\n",
       "45 2019-04-01  4654.25\n",
       "46 2019-05-01  5078.00\n",
       "47 2019-06-01  4579.25\n",
       "48 2019-07-01  4016.00\n",
       "49 2019-08-01  4071.75\n",
       "50 2019-09-01  3883.25\n",
       "51 2019-10-01  4372.00\n",
       "52 2019-11-01  5119.00\n",
       "53 2019-12-01  4360.50\n",
       "54 2020-01-01  4345.75\n",
       "55 2020-02-01  4654.50\n",
       "56 2020-03-01  3388.25\n",
       "57 2020-04-01   952.50\n",
       "58 2020-05-01  2572.25\n",
       "59 2020-06-01  4079.75\n",
       "60 2020-07-01  4167.75\n",
       "61 2020-08-01  4873.00\n",
       "62 2020-09-01  5004.25\n",
       "63 2020-10-01  5149.00\n",
       "64 2020-11-01  6221.25\n",
       "65 2020-12-01  5929.50\n",
       "66 2021-01-01  5170.50\n",
       "67 2021-02-01  5642.50\n",
       "68 2021-03-01  4788.75\n",
       "69 2021-04-01  4143.75\n",
       "70 2021-05-01  2481.75\n",
       "71 2021-06-01  4229.25\n",
       "72 2021-07-01  5009.50\n",
       "73 2021-08-01  5108.00\n",
       "74 2021-09-01  4816.50\n",
       "75 2021-10-01  4733.50\n",
       "76 2021-11-01  6204.25\n",
       "77 2021-12-01  5562.50\n",
       "78 2022-01-01  4568.50\n",
       "79 2022-02-01  5711.25\n",
       "80 2022-03-01  4936.25"
      ]
     },
     "execution_count": 89,
     "metadata": {},
     "output_type": "execute_result"
    }
   ],
   "source": [
    "df4.tail(60)"
   ]
  },
  {
   "cell_type": "markdown",
   "id": "99003358",
   "metadata": {},
   "source": [
    "# Removing Outliers"
   ]
  },
  {
   "cell_type": "code",
   "execution_count": 90,
   "id": "8da20491",
   "metadata": {},
   "outputs": [],
   "source": [
    "#Outliers detected during covid period for the months Apr'20, May'20 & May'21"
   ]
  },
  {
   "cell_type": "code",
   "execution_count": 91,
   "id": "ded54970",
   "metadata": {},
   "outputs": [],
   "source": [
    "#removing outlier months from the dataframe df4 \n",
    "    \n",
    "df4= df4.drop(df4.index[[57,58,70]])"
   ]
  },
  {
   "cell_type": "code",
   "execution_count": 92,
   "id": "a287adbd",
   "metadata": {},
   "outputs": [
    {
     "data": {
      "text/plain": [
       "<AxesSubplot:>"
      ]
     },
     "execution_count": 92,
     "metadata": {},
     "output_type": "execute_result"
    },
    {
     "data": {
      "image/png": "[encoded data removed]",
      "text/plain": [
       "<Figure size 432x288 with 1 Axes>"
      ]
     },
     "metadata": {
      "needs_background": "light"
     },
     "output_type": "display_data"
    }
   ],
   "source": [
    "#Plot after outlier treatment\n",
    "\n",
    "df4['Traffic'].plot()"
   ]
  },
  {
   "cell_type": "code",
   "execution_count": 93,
   "id": "dd03a5cd",
   "metadata": {},
   "outputs": [
    {
     "data": {
      "text/html": [
       "<div>\n",
       "<style scoped>\n",
       "    .dataframe tbody tr th:only-of-type {\n",
       "        vertical-align: middle;\n",
       "    }\n",
       "\n",
       "    .dataframe tbody tr th {\n",
       "        vertical-align: top;\n",
       "    }\n",
       "\n",
       "    .dataframe thead th {\n",
       "        text-align: right;\n",
       "    }\n",
       "</style>\n",
       "<table border=\"1\" class=\"dataframe\">\n",
       "  <thead>\n",
       "    <tr style=\"text-align: right;\">\n",
       "      <th></th>\n",
       "      <th>Month_year</th>\n",
       "      <th>Traffic</th>\n",
       "    </tr>\n",
       "  </thead>\n",
       "  <tbody>\n",
       "    <tr>\n",
       "      <th>0</th>\n",
       "      <td>2015-07-01</td>\n",
       "      <td>2766.50</td>\n",
       "    </tr>\n",
       "    <tr>\n",
       "      <th>1</th>\n",
       "      <td>2015-08-01</td>\n",
       "      <td>2585.75</td>\n",
       "    </tr>\n",
       "    <tr>\n",
       "      <th>2</th>\n",
       "      <td>2015-09-01</td>\n",
       "      <td>3118.25</td>\n",
       "    </tr>\n",
       "    <tr>\n",
       "      <th>3</th>\n",
       "      <td>2015-10-01</td>\n",
       "      <td>3071.75</td>\n",
       "    </tr>\n",
       "    <tr>\n",
       "      <th>4</th>\n",
       "      <td>2015-11-01</td>\n",
       "      <td>3834.25</td>\n",
       "    </tr>\n",
       "    <tr>\n",
       "      <th>...</th>\n",
       "      <td>...</td>\n",
       "      <td>...</td>\n",
       "    </tr>\n",
       "    <tr>\n",
       "      <th>76</th>\n",
       "      <td>2021-11-01</td>\n",
       "      <td>6204.25</td>\n",
       "    </tr>\n",
       "    <tr>\n",
       "      <th>77</th>\n",
       "      <td>2021-12-01</td>\n",
       "      <td>5562.50</td>\n",
       "    </tr>\n",
       "    <tr>\n",
       "      <th>78</th>\n",
       "      <td>2022-01-01</td>\n",
       "      <td>4568.50</td>\n",
       "    </tr>\n",
       "    <tr>\n",
       "      <th>79</th>\n",
       "      <td>2022-02-01</td>\n",
       "      <td>5711.25</td>\n",
       "    </tr>\n",
       "    <tr>\n",
       "      <th>80</th>\n",
       "      <td>2022-03-01</td>\n",
       "      <td>4936.25</td>\n",
       "    </tr>\n",
       "  </tbody>\n",
       "</table>\n",
       "<p>78 rows × 2 columns</p>\n",
       "</div>"
      ],
      "text/plain": [
       "   Month_year  Traffic\n",
       "0  2015-07-01  2766.50\n",
       "1  2015-08-01  2585.75\n",
       "2  2015-09-01  3118.25\n",
       "3  2015-10-01  3071.75\n",
       "4  2015-11-01  3834.25\n",
       "..        ...      ...\n",
       "76 2021-11-01  6204.25\n",
       "77 2021-12-01  5562.50\n",
       "78 2022-01-01  4568.50\n",
       "79 2022-02-01  5711.25\n",
       "80 2022-03-01  4936.25\n",
       "\n",
       "[78 rows x 2 columns]"
      ]
     },
     "execution_count": 93,
     "metadata": {},
     "output_type": "execute_result"
    }
   ],
   "source": [
    "df4"
   ]
  },
  {
   "cell_type": "markdown",
   "id": "aad6a21d",
   "metadata": {},
   "source": [
    "# Data preparation for Time Series Modelling"
   ]
  },
  {
   "cell_type": "code",
   "execution_count": 94,
   "id": "0bbab605",
   "metadata": {},
   "outputs": [
    {
     "data": {
      "text/html": [
       "<div>\n",
       "<style scoped>\n",
       "    .dataframe tbody tr th:only-of-type {\n",
       "        vertical-align: middle;\n",
       "    }\n",
       "\n",
       "    .dataframe tbody tr th {\n",
       "        vertical-align: top;\n",
       "    }\n",
       "\n",
       "    .dataframe thead th {\n",
       "        text-align: right;\n",
       "    }\n",
       "</style>\n",
       "<table border=\"1\" class=\"dataframe\">\n",
       "  <thead>\n",
       "    <tr style=\"text-align: right;\">\n",
       "      <th></th>\n",
       "      <th>Month_year</th>\n",
       "      <th>Traffic</th>\n",
       "    </tr>\n",
       "  </thead>\n",
       "  <tbody>\n",
       "    <tr>\n",
       "      <th>76</th>\n",
       "      <td>2021-11-01</td>\n",
       "      <td>6204.25</td>\n",
       "    </tr>\n",
       "    <tr>\n",
       "      <th>77</th>\n",
       "      <td>2021-12-01</td>\n",
       "      <td>5562.50</td>\n",
       "    </tr>\n",
       "    <tr>\n",
       "      <th>78</th>\n",
       "      <td>2022-01-01</td>\n",
       "      <td>4568.50</td>\n",
       "    </tr>\n",
       "    <tr>\n",
       "      <th>79</th>\n",
       "      <td>2022-02-01</td>\n",
       "      <td>5711.25</td>\n",
       "    </tr>\n",
       "    <tr>\n",
       "      <th>80</th>\n",
       "      <td>2022-03-01</td>\n",
       "      <td>4936.25</td>\n",
       "    </tr>\n",
       "  </tbody>\n",
       "</table>\n",
       "</div>"
      ],
      "text/plain": [
       "   Month_year  Traffic\n",
       "76 2021-11-01  6204.25\n",
       "77 2021-12-01  5562.50\n",
       "78 2022-01-01  4568.50\n",
       "79 2022-02-01  5711.25\n",
       "80 2022-03-01  4936.25"
      ]
     },
     "execution_count": 94,
     "metadata": {},
     "output_type": "execute_result"
    }
   ],
   "source": [
    "Train= df4.iloc[:79]\n",
    "Train.tail()"
   ]
  },
  {
   "cell_type": "code",
   "execution_count": 95,
   "id": "ca05faa1",
   "metadata": {},
   "outputs": [
    {
     "data": {
      "text/html": [
       "<div>\n",
       "<style scoped>\n",
       "    .dataframe tbody tr th:only-of-type {\n",
       "        vertical-align: middle;\n",
       "    }\n",
       "\n",
       "    .dataframe tbody tr th {\n",
       "        vertical-align: top;\n",
       "    }\n",
       "\n",
       "    .dataframe thead th {\n",
       "        text-align: right;\n",
       "    }\n",
       "</style>\n",
       "<table border=\"1\" class=\"dataframe\">\n",
       "  <thead>\n",
       "    <tr style=\"text-align: right;\">\n",
       "      <th></th>\n",
       "      <th>Traffic</th>\n",
       "    </tr>\n",
       "    <tr>\n",
       "      <th>Month_year</th>\n",
       "      <th></th>\n",
       "    </tr>\n",
       "  </thead>\n",
       "  <tbody>\n",
       "    <tr>\n",
       "      <th>2015-07-01</th>\n",
       "      <td>2766.50</td>\n",
       "    </tr>\n",
       "    <tr>\n",
       "      <th>2015-08-01</th>\n",
       "      <td>2585.75</td>\n",
       "    </tr>\n",
       "    <tr>\n",
       "      <th>2015-09-01</th>\n",
       "      <td>3118.25</td>\n",
       "    </tr>\n",
       "    <tr>\n",
       "      <th>2015-10-01</th>\n",
       "      <td>3071.75</td>\n",
       "    </tr>\n",
       "    <tr>\n",
       "      <th>2015-11-01</th>\n",
       "      <td>3834.25</td>\n",
       "    </tr>\n",
       "  </tbody>\n",
       "</table>\n",
       "</div>"
      ],
      "text/plain": [
       "            Traffic\n",
       "Month_year         \n",
       "2015-07-01  2766.50\n",
       "2015-08-01  2585.75\n",
       "2015-09-01  3118.25\n",
       "2015-10-01  3071.75\n",
       "2015-11-01  3834.25"
      ]
     },
     "execution_count": 95,
     "metadata": {},
     "output_type": "execute_result"
    }
   ],
   "source": [
    "Train = Train.set_index('Month_year')\n",
    "Train.head()"
   ]
  },
  {
   "cell_type": "code",
   "execution_count": 96,
   "id": "36a7ef30",
   "metadata": {},
   "outputs": [],
   "source": [
    "Train_1=pd.Series(Train['Traffic'])"
   ]
  },
  {
   "cell_type": "code",
   "execution_count": 97,
   "id": "bd5f89ff",
   "metadata": {},
   "outputs": [
    {
     "data": {
      "text/plain": [
       "Month_year\n",
       "2015-07-01    2766.50\n",
       "2015-08-01    2585.75\n",
       "2015-09-01    3118.25\n",
       "2015-10-01    3071.75\n",
       "2015-11-01    3834.25\n",
       "Name: Traffic, dtype: float64"
      ]
     },
     "execution_count": 97,
     "metadata": {},
     "output_type": "execute_result"
    }
   ],
   "source": [
    "Train_1.head()"
   ]
  },
  {
   "cell_type": "markdown",
   "id": "593b1bdf",
   "metadata": {},
   "source": [
    "# Visualization & Stationarity Test"
   ]
  },
  {
   "cell_type": "code",
   "execution_count": 98,
   "id": "69d620ed",
   "metadata": {},
   "outputs": [],
   "source": [
    "import seaborn as sns\n",
    "import statsmodels.api as sm\n",
    "from statsmodels.tsa.stattools import adfuller\n",
    "from statsmodels.graphics.tsaplots import plot_acf, plot_pacf\n",
    "from sklearn.metrics import mean_squared_error\n",
    "from math import sqrt"
   ]
  },
  {
   "cell_type": "code",
   "execution_count": 99,
   "id": "d15fdcaa",
   "metadata": {},
   "outputs": [],
   "source": [
    "#stationarity test(Dickey-Fuller Test)\n",
    "\n",
    "def check_stationarity(y, lags_plots=20, figsize=(22,8)):\n",
    "    \"Use Series as parameter\"\n",
    "    \n",
    "    # Creating plots of the DF\n",
    "    y = pd.Series(Train_1)\n",
    "    fig = plt.figure()\n",
    "\n",
    "    ax1 = plt.subplot2grid((3, 3), (0, 0), colspan=2)\n",
    "    ax2 = plt.subplot2grid((3, 3), (1, 0))\n",
    "    ax3 = plt.subplot2grid((3, 3), (1, 1))\n",
    "    ax4 = plt.subplot2grid((3, 3), (2, 0), colspan=2)\n",
    "\n",
    "    y.plot(ax=ax1, figsize=figsize)\n",
    "    ax1.set_title('Traffic')\n",
    "    plot_acf(y, lags=lags_plots, zero=False, ax=ax2);\n",
    "    plot_pacf(y, lags=lags_plots, zero=False, ax=ax3);\n",
    "    sns.distplot(y, bins=int(sqrt(len(y))), ax=ax4)\n",
    "    ax4.set_title('Distribution Chart')\n",
    "\n",
    "    plt.tight_layout()\n",
    "    \n",
    "    print('Results of Dickey-Fuller Test:')\n",
    "    adfinput = adfuller(y)\n",
    "    adftest = pd.Series(adfinput[0:4], index=['Test Statistic','p-value','Lags Used','Number of Observations Used'])\n",
    "    adftest = round(adftest,4)\n",
    "    \n",
    "    for key, value in adfinput[4].items():\n",
    "        adftest[\"Critical Value (%s)\"%key] = value.round(4)\n",
    "        \n",
    "    print(adftest)\n",
    "    \n",
    "    if adftest[0].round(2) < adftest[5].round(2):\n",
    "        print('\\nThe Test Statistics is lower than the Critical Value of 5%.\\nThe series seems to be stationary')\n",
    "    else:\n",
    "        print(\"\\nThe Test Statistics is higher than the Critical Value of 5%.\\nThe series isn't stationary\")"
   ]
  },
  {
   "cell_type": "code",
   "execution_count": 100,
   "id": "0001461b",
   "metadata": {},
   "outputs": [
    {
     "name": "stdout",
     "output_type": "stream",
     "text": [
      "Results of Dickey-Fuller Test:\n",
      "Test Statistic                 -0.9282\n",
      "p-value                         0.7785\n",
      "Lags Used                      10.0000\n",
      "Number of Observations Used    67.0000\n",
      "Critical Value (1%)            -3.5320\n",
      "Critical Value (5%)            -2.9058\n",
      "Critical Value (10%)           -2.5904\n",
      "dtype: float64\n",
      "\n",
      "The Test Statistics is higher than the Critical Value of 5%.\n",
      "The series isn't stationary\n"
     ]
    },
    {
     "data": {
      "image/png": "[encoded data removed]",
      "text/plain": [
       "<Figure size 1584x576 with 4 Axes>"
      ]
     },
     "metadata": {
      "needs_background": "light"
     },
     "output_type": "display_data"
    }
   ],
   "source": [
    "check_stationarity(Train_1)"
   ]
  },
  {
   "cell_type": "markdown",
   "id": "2119c854",
   "metadata": {},
   "source": [
    "# SARIMA model for final prediction"
   ]
  },
  {
   "cell_type": "code",
   "execution_count": 101,
   "id": "382b133b",
   "metadata": {},
   "outputs": [],
   "source": [
    "#AIC values calculated and the best obtained is used on the time series to get the prediction for next 6 months using SARIMA model"
   ]
  },
  {
   "cell_type": "code",
   "execution_count": 102,
   "id": "c0859cbf",
   "metadata": {},
   "outputs": [
    {
     "name": "stdout",
     "output_type": "stream",
     "text": [
      "                                      SARIMAX Results                                      \n",
      "===========================================================================================\n",
      "Dep. Variable:                             Traffic   No. Observations:                   78\n",
      "Model:             SARIMAX(1, 1, 1)x(1, 1, [], 12)   Log Likelihood                -498.355\n",
      "Date:                             Sat, 18 Jun 2022   AIC                           1004.711\n",
      "Time:                                     12:50:53   BIC                           1013.409\n",
      "Sample:                                          0   HQIC                          1008.143\n",
      "                                              - 78                                         \n",
      "Covariance Type:                               opg                                         \n",
      "==============================================================================\n",
      "                 coef    std err          z      P>|z|      [0.025      0.975]\n",
      "------------------------------------------------------------------------------\n",
      "ar.L1          0.3893      0.095      4.115      0.000       0.204       0.575\n",
      "ma.L1         -0.9998     10.969     -0.091      0.927     -22.499      20.499\n",
      "ar.S.L12      -0.5916      0.140     -4.211      0.000      -0.867      -0.316\n",
      "sigma2      2.278e+05    2.5e+06      0.091      0.927   -4.67e+06    5.13e+06\n",
      "===================================================================================\n",
      "Ljung-Box (L1) (Q):                   0.13   Jarque-Bera (JB):                 8.86\n",
      "Prob(Q):                              0.71   Prob(JB):                         0.01\n",
      "Heteroskedasticity (H):               4.81   Skew:                             0.62\n",
      "Prob(H) (two-sided):                  0.00   Kurtosis:                         4.32\n",
      "===================================================================================\n",
      "\n",
      "Warnings:\n",
      "[1] Covariance matrix calculated using the outer product of gradients (complex-step).\n"
     ]
    }
   ],
   "source": [
    "best_model_sarima = sm.tsa.statespace.SARIMAX(Train_1, order=(1,1,1), seasonal_order=(1, 1, 0, 12)).fit(dis=-1)\n",
    "print(best_model_sarima.summary())"
   ]
  },
  {
   "cell_type": "code",
   "execution_count": 103,
   "id": "e2e1e2e8",
   "metadata": {},
   "outputs": [
    {
     "name": "stdout",
     "output_type": "stream",
     "text": [
      "2022-04-30    4844.628531\n",
      "2022-05-31    4867.304756\n",
      "2022-06-30    4193.429240\n",
      "Freq: M, Name: predicted_mean, dtype: float64\n"
     ]
    }
   ],
   "source": [
    "#Getting Predictions for next quarter starting from Apr 2022\n",
    "\n",
    "\n",
    "index_future_dates=pd.date_range(start='2022-04',end='2022-07',freq='M')\n",
    "#print (index_future_dates)\n",
    "L5=best_model_sarima.predict(start=len(Train_1) ,end= Train_1.shape[0] + 2,typ='levels')\n",
    "L5.index= index_future_dates\n",
    "print (L5)"
   ]
  },
  {
   "cell_type": "code",
   "execution_count": 104,
   "id": "83d1de8c",
   "metadata": {},
   "outputs": [],
   "source": [
    "#Plotting the train data and the final predictions"
   ]
  },
  {
   "cell_type": "code",
   "execution_count": 105,
   "id": "1ed39b55",
   "metadata": {},
   "outputs": [
    {
     "data": {
      "image/png": "[encoded data removed]",
      "text/plain": [
       "<Figure size 432x288 with 1 Axes>"
      ]
     },
     "metadata": {
      "needs_background": "light"
     },
     "output_type": "display_data"
    }
   ],
   "source": [
    "plt.title('Prediction L5', size=20)\n",
    "#plt.figure(figsize=(20,5))\n",
    "plt.plot(Train['Traffic'], label= 'Training_data')\n",
    "plt.plot(L5, color='green', label= 'predictions')\n",
    "plt.legend();"
   ]
  },
  {
   "cell_type": "code",
   "execution_count": null,
   "id": "517a04c9",
   "metadata": {},
   "outputs": [],
   "source": []
  },
  {
   "cell_type": "code",
   "execution_count": null,
   "id": "496971fa",
   "metadata": {},
   "outputs": [],
   "source": []
  }
 ],
 "metadata": {
  "kernelspec": {
   "display_name": "Python 3",
   "language": "python",
   "name": "python3"
  },
  "language_info": {
   "codemirror_mode": {
    "name": "ipython",
    "version": 3
   },
   "file_extension": ".py",
   "mimetype": "text/x-python",
   "name": "python",
   "nbconvert_exporter": "python",
   "pygments_lexer": "ipython3",
   "version": "3.8.8"
  }
 },
 "nbformat": 4,
 "nbformat_minor": 5
}
